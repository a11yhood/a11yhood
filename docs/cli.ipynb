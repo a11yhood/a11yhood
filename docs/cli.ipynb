{
 "cells": [
  {
   "cell_type": "markdown",
   "id": "dd3bc4a2-d4e6-42b7-adf8-2c996fe9ec74",
   "metadata": {},
   "source": [
    "# `a11yhood` cli"
   ]
  },
  {
   "cell_type": "code",
   "execution_count": 1,
   "id": "1a4c6c0d-9000-43b5-86f6-8d65de0dc4d9",
   "metadata": {},
   "outputs": [
    {
     "name": "stdout",
     "output_type": "stream",
     "text": [
      "\u001b[1m                                                                                \u001b[0m\n",
      "\u001b[1m \u001b[0m\u001b[1;33mUsage: \u001b[0m\u001b[1mpython \u001b[0m\u001b[1;32m-m\u001b[0m\u001b[1m a11yhood [OPTIONS] COMMAND [ARGS]...\u001b[0m\u001b[1m                         \u001b[0m\u001b[1m \u001b[0m\n",
      "\u001b[1m                                                                                \u001b[0m\n",
      "\u001b[2m╭─\u001b[0m\u001b[2m Options \u001b[0m\u001b[2m───────────────────────────────────────────────────────────────────\u001b[0m\u001b[2m─╮\u001b[0m\n",
      "\u001b[2m│\u001b[0m \u001b[1;36m-\u001b[0m\u001b[1;36m-install\u001b[0m\u001b[1;36m-completion\u001b[0m            Install completion for the current shell.    \u001b[2m│\u001b[0m\n",
      "\u001b[2m│\u001b[0m \u001b[1;36m-\u001b[0m\u001b[1;36m-show\u001b[0m\u001b[1;36m-completion\u001b[0m               Show completion for the current shell, to    \u001b[2m│\u001b[0m\n",
      "\u001b[2m│\u001b[0m                                 copy it or customize the installation.       \u001b[2m│\u001b[0m\n",
      "\u001b[2m│\u001b[0m \u001b[1;36m-\u001b[0m\u001b[1;36m-help\u001b[0m                \u001b[1;32m-h\u001b[0m        Show this message and exit.                  \u001b[2m│\u001b[0m\n",
      "\u001b[2m╰──────────────────────────────────────────────────────────────────────────────╯\u001b[0m\n",
      "\u001b[2m╭─\u001b[0m\u001b[2m Commands \u001b[0m\u001b[2m──────────────────────────────────────────────────────────────────\u001b[0m\u001b[2m─╮\u001b[0m\n",
      "\u001b[2m│\u001b[0m \u001b[1;36mscraper \u001b[0m\u001b[1;36m \u001b[0m                                                                    \u001b[2m│\u001b[0m\n",
      "\u001b[2m╰──────────────────────────────────────────────────────────────────────────────╯\u001b[0m\n",
      "\n"
     ]
    }
   ],
   "source": [
    "!python -m a11yhood -h"
   ]
  },
  {
   "cell_type": "markdown",
   "id": "558f7efe-aa46-4fc2-a578-f213a5804a50",
   "metadata": {},
   "source": [
    "## scrapers"
   ]
  },
  {
   "cell_type": "code",
   "execution_count": 2,
   "id": "ef2de71d-7e71-4574-97fd-b237fadf3885",
   "metadata": {},
   "outputs": [
    {
     "name": "stdout",
     "output_type": "stream",
     "text": [
      "\u001b[1m                                                                                \u001b[0m\n",
      "\u001b[1m \u001b[0m\u001b[1;33mUsage: \u001b[0m\u001b[1mpython \u001b[0m\u001b[1;32m-m\u001b[0m\u001b[1m a11yhood scraper [OPTIONS] COMMAND [ARGS]...\u001b[0m\u001b[1m                 \u001b[0m\u001b[1m \u001b[0m\n",
      "\u001b[1m                                                                                \u001b[0m\n",
      "\u001b[2m╭─\u001b[0m\u001b[2m Options \u001b[0m\u001b[2m───────────────────────────────────────────────────────────────────\u001b[0m\u001b[2m─╮\u001b[0m\n",
      "\u001b[2m│\u001b[0m \u001b[1;36m-\u001b[0m\u001b[1;36m-help\u001b[0m  \u001b[1;32m-h\u001b[0m        Show this message and exit.                                \u001b[2m│\u001b[0m\n",
      "\u001b[2m╰──────────────────────────────────────────────────────────────────────────────╯\u001b[0m\n",
      "\u001b[2m╭─\u001b[0m\u001b[2m Commands \u001b[0m\u001b[2m──────────────────────────────────────────────────────────────────\u001b[0m\u001b[2m─╮\u001b[0m\n",
      "\u001b[2m│\u001b[0m \u001b[1;36mgithub  \u001b[0m\u001b[1;36m \u001b[0m                                                                    \u001b[2m│\u001b[0m\n",
      "\u001b[2m│\u001b[0m \u001b[1;36mravelry \u001b[0m\u001b[1;36m \u001b[0m                                                                    \u001b[2m│\u001b[0m\n",
      "\u001b[2m╰──────────────────────────────────────────────────────────────────────────────╯\u001b[0m\n",
      "\n"
     ]
    }
   ],
   "source": [
    "!python -m a11yhood scraper -h"
   ]
  },
  {
   "cell_type": "markdown",
   "id": "3a9ae8f5-0ad9-461a-9349-35b10a624c46",
   "metadata": {},
   "source": [
    "### github scraper"
   ]
  },
  {
   "cell_type": "code",
   "execution_count": 3,
   "id": "e16c5eea-d0c3-4f15-b6a8-bf691fa8bbad",
   "metadata": {},
   "outputs": [
    {
     "name": "stdout",
     "output_type": "stream",
     "text": [
      "\u001b[1m                                                                                \u001b[0m\n",
      "\u001b[1m \u001b[0m\u001b[1;33mUsage: \u001b[0m\u001b[1mpython \u001b[0m\u001b[1;32m-m\u001b[0m\u001b[1m a11yhood scraper github [OPTIONS] COMMAND [ARGS]...\u001b[0m\u001b[1m          \u001b[0m\u001b[1m \u001b[0m\n",
      "\u001b[1m                                                                                \u001b[0m\n",
      "\u001b[2m╭─\u001b[0m\u001b[2m Options \u001b[0m\u001b[2m───────────────────────────────────────────────────────────────────\u001b[0m\u001b[2m─╮\u001b[0m\n",
      "\u001b[2m│\u001b[0m \u001b[1;36m-\u001b[0m\u001b[1;36m-target\u001b[0m          \u001b[1;33mPATH\u001b[0m  \u001b[2m[default:                                           \u001b[0m \u001b[2m│\u001b[0m\n",
      "\u001b[2m│\u001b[0m                         \u001b[2m/home/tbone/.local/share/a11yhood/2025-02-07/github]\u001b[0m \u001b[2m│\u001b[0m\n",
      "\u001b[2m│\u001b[0m \u001b[1;36m-\u001b[0m\u001b[1;36m-help\u001b[0m    \u001b[1;32m-h\u001b[0m      \u001b[1;33m    \u001b[0m  Show this message and exit.                          \u001b[2m│\u001b[0m\n",
      "\u001b[2m╰──────────────────────────────────────────────────────────────────────────────╯\u001b[0m\n",
      "\u001b[2m╭─\u001b[0m\u001b[2m Commands \u001b[0m\u001b[2m──────────────────────────────────────────────────────────────────\u001b[0m\u001b[2m─╮\u001b[0m\n",
      "\u001b[2m│\u001b[0m \u001b[1;36mmain \u001b[0m\u001b[1;36m \u001b[0m                                                                       \u001b[2m│\u001b[0m\n",
      "\u001b[2m╰──────────────────────────────────────────────────────────────────────────────╯\u001b[0m\n",
      "\n",
      "\u001b[1m                                                                                \u001b[0m\n",
      "\u001b[1m \u001b[0m\u001b[1;33mUsage: \u001b[0m\u001b[1mpython \u001b[0m\u001b[1;32m-m\u001b[0m\u001b[1m a11yhood.github [OPTIONS] COMMAND [ARGS]...\u001b[0m\u001b[1m                  \u001b[0m\u001b[1m \u001b[0m\n",
      "\u001b[1m                                                                                \u001b[0m\n",
      "\u001b[2m╭─\u001b[0m\u001b[2m Options \u001b[0m\u001b[2m───────────────────────────────────────────────────────────────────\u001b[0m\u001b[2m─╮\u001b[0m\n",
      "\u001b[2m│\u001b[0m \u001b[1;36m-\u001b[0m\u001b[1;36m-target\u001b[0m          \u001b[1;33mPATH\u001b[0m  \u001b[2m[default:                                           \u001b[0m \u001b[2m│\u001b[0m\n",
      "\u001b[2m│\u001b[0m                         \u001b[2m/home/tbone/.local/share/a11yhood/2025-02-07/github]\u001b[0m \u001b[2m│\u001b[0m\n",
      "\u001b[2m│\u001b[0m \u001b[1;36m-\u001b[0m\u001b[1;36m-help\u001b[0m    \u001b[1;32m-h\u001b[0m      \u001b[1;33m    \u001b[0m  Show this message and exit.                          \u001b[2m│\u001b[0m\n",
      "\u001b[2m╰──────────────────────────────────────────────────────────────────────────────╯\u001b[0m\n",
      "\u001b[2m╭─\u001b[0m\u001b[2m Commands \u001b[0m\u001b[2m──────────────────────────────────────────────────────────────────\u001b[0m\u001b[2m─╮\u001b[0m\n",
      "\u001b[2m│\u001b[0m \u001b[1;36mmain \u001b[0m\u001b[1;36m \u001b[0m                                                                       \u001b[2m│\u001b[0m\n",
      "\u001b[2m╰──────────────────────────────────────────────────────────────────────────────╯\u001b[0m\n",
      "\n"
     ]
    }
   ],
   "source": [
    "!python -m a11yhood scraper github -h\n",
    "!python -m a11yhood.github -h"
   ]
  },
  {
   "cell_type": "markdown",
   "id": "9eceaccd-bea6-4b9c-b4f2-06617f16c9f3",
   "metadata": {},
   "source": [
    "### ravelry scraper"
   ]
  },
  {
   "cell_type": "code",
   "execution_count": 4,
   "id": "c53b1704-a56d-45dc-a9a1-bb94550d7d09",
   "metadata": {},
   "outputs": [
    {
     "name": "stdout",
     "output_type": "stream",
     "text": [
      "\u001b[1m                                                                                \u001b[0m\n",
      "\u001b[1m \u001b[0m\u001b[1;33mUsage: \u001b[0m\u001b[1mpython \u001b[0m\u001b[1;32m-m\u001b[0m\u001b[1m a11yhood scraper ravelry [OPTIONS] COMMAND [ARGS]...\u001b[0m\u001b[1m         \u001b[0m\u001b[1m \u001b[0m\n",
      "\u001b[1m                                                                                \u001b[0m\n",
      "\u001b[2m╭─\u001b[0m\u001b[2m Options \u001b[0m\u001b[2m───────────────────────────────────────────────────────────────────\u001b[0m\u001b[2m─╮\u001b[0m\n",
      "\u001b[2m│\u001b[0m \u001b[1;36m-\u001b[0m\u001b[1;36m-target\u001b[0m          \u001b[1;33mPATH\u001b[0m  \u001b[2m[default:                                           \u001b[0m \u001b[2m│\u001b[0m\n",
      "\u001b[2m│\u001b[0m                         \u001b[2m/home/tbone/.local/share/a11yhood/2025-02-07]       \u001b[0m \u001b[2m│\u001b[0m\n",
      "\u001b[2m│\u001b[0m \u001b[1;36m-\u001b[0m\u001b[1;36m-help\u001b[0m    \u001b[1;32m-h\u001b[0m      \u001b[1;33m    \u001b[0m  Show this message and exit.                          \u001b[2m│\u001b[0m\n",
      "\u001b[2m╰──────────────────────────────────────────────────────────────────────────────╯\u001b[0m\n",
      "\u001b[2m╭─\u001b[0m\u001b[2m Commands \u001b[0m\u001b[2m──────────────────────────────────────────────────────────────────\u001b[0m\u001b[2m─╮\u001b[0m\n",
      "\u001b[2m│\u001b[0m \u001b[1;36mmain \u001b[0m\u001b[1;36m \u001b[0m                                                                       \u001b[2m│\u001b[0m\n",
      "\u001b[2m╰──────────────────────────────────────────────────────────────────────────────╯\u001b[0m\n",
      "\n",
      "\u001b[1m                                                                                \u001b[0m\n",
      "\u001b[1m \u001b[0m\u001b[1;33mUsage: \u001b[0m\u001b[1mpython \u001b[0m\u001b[1;32m-m\u001b[0m\u001b[1m a11yhood.ravelry [OPTIONS] COMMAND [ARGS]...\u001b[0m\u001b[1m                 \u001b[0m\u001b[1m \u001b[0m\n",
      "\u001b[1m                                                                                \u001b[0m\n",
      "\u001b[2m╭─\u001b[0m\u001b[2m Options \u001b[0m\u001b[2m───────────────────────────────────────────────────────────────────\u001b[0m\u001b[2m─╮\u001b[0m\n",
      "\u001b[2m│\u001b[0m \u001b[1;36m-\u001b[0m\u001b[1;36m-target\u001b[0m          \u001b[1;33mPATH\u001b[0m  \u001b[2m[default:                                           \u001b[0m \u001b[2m│\u001b[0m\n",
      "\u001b[2m│\u001b[0m                         \u001b[2m/home/tbone/.local/share/a11yhood/2025-02-07]       \u001b[0m \u001b[2m│\u001b[0m\n",
      "\u001b[2m│\u001b[0m \u001b[1;36m-\u001b[0m\u001b[1;36m-help\u001b[0m    \u001b[1;32m-h\u001b[0m      \u001b[1;33m    \u001b[0m  Show this message and exit.                          \u001b[2m│\u001b[0m\n",
      "\u001b[2m╰──────────────────────────────────────────────────────────────────────────────╯\u001b[0m\n",
      "\u001b[2m╭─\u001b[0m\u001b[2m Commands \u001b[0m\u001b[2m──────────────────────────────────────────────────────────────────\u001b[0m\u001b[2m─╮\u001b[0m\n",
      "\u001b[2m│\u001b[0m \u001b[1;36mmain \u001b[0m\u001b[1;36m \u001b[0m                                                                       \u001b[2m│\u001b[0m\n",
      "\u001b[2m╰──────────────────────────────────────────────────────────────────────────────╯\u001b[0m\n",
      "\n"
     ]
    }
   ],
   "source": [
    "!python -m a11yhood scraper ravelry -h\n",
    "!python -m a11yhood.ravelry -h"
   ]
  }
 ],
 "metadata": {
  "kernelspec": {
   "display_name": "Python [conda env:p311] *",
   "language": "python",
   "name": "conda-env-p311-py"
  },
  "language_info": {
   "codemirror_mode": {
    "name": "ipython",
    "version": 3
   },
   "file_extension": ".py",
   "mimetype": "text/x-python",
   "name": "python",
   "nbconvert_exporter": "python",
   "pygments_lexer": "ipython3",
   "version": "3.11.6"
  },
  "widgets": {
   "application/vnd.jupyter.widget-state+json": {
    "state": {},
    "version_major": 2,
    "version_minor": 0
   }
  }
 },
 "nbformat": 4,
 "nbformat_minor": 5
}
