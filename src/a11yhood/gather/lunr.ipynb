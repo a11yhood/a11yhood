{
 "cells": [
  {
   "cell_type": "markdown",
   "id": "bcefed39-3070-49a3-a514-03dda28f2170",
   "metadata": {},
   "source": [
    "# search with lunr.js"
   ]
  },
  {
   "cell_type": "code",
   "execution_count": 1,
   "id": "5335e03f",
   "metadata": {},
   "outputs": [],
   "source": [
    "import jinja2, bs4\n",
    "with __import__(\"importnb\").Notebook():\n",
    "    from aggregate import get_frames, App"
   ]
  },
  {
   "cell_type": "code",
   "execution_count": 2,
   "id": "25175902-ed6d-4010-9152-e1f305c9df2f",
   "metadata": {
    "execution": {
     "iopub.execute_input": "2025-04-03T20:28:40.949506Z",
     "iopub.status.busy": "2025-04-03T20:28:40.949413Z",
     "iopub.status.idle": "2025-04-03T20:28:41.030275Z",
     "shell.execute_reply": "2025-04-03T20:28:41.030020Z"
    },
    "scrolled": true
   },
   "outputs": [],
   "source": [
    "script =\\\n",
    "\"\"\"\n",
    "<script type=\"module\">\n",
    "import lunr from \"https://esm.sh/lunr\"\n",
    "import * as d3 from \"https://cdn.jsdelivr.net/npm/d3@7/+esm\"\n",
    "import markdownIt from 'https://cdn.jsdelivr.net/npm/markdown-it@14.1.0/+esm'\n",
    "\n",
    "var documents = {{df[[\"description\"]].reset_index().dropna().to_json(orient=\"records\")}};\n",
    "var store = Object.fromEntries(documents.map(x => [x.index, x]))\n",
    "var idx = lunr(function () {\n",
    "  this.ref('index')\n",
    "  this.field('description')\n",
    "  documents.forEach(function (doc) {this.add(doc)}, this)\n",
    "})\n",
    "d3.select(\"#completion\").selectAll(\"option\").data(\n",
    "    Object.keys(idx.invertedIndex)\n",
    ").join(\"option\").text(d => d)\n",
    "function updateSearch(event) {\n",
    "    event?.preventDefault()\n",
    "    var table = d3.select(document.forms.search).select(\"table\");\n",
    "    var body = table.select(\"tbody\");\n",
    "    var ordering = \"index description\".split(\" \");\n",
    "    var tpl = document.forms.search.querySelector(\"table>template\");\n",
    "    \n",
    "    var rows = body.selectAll(\"tr\")\n",
    "        .data(idx.search(document.forms.search.q.value))\n",
    "      \t.join(\"tr\")\n",
    "        .each((d, i, nodes)=>{\n",
    "            console.log(d, i)\n",
    "            var self = d3.select(nodes[i]);\n",
    "            var entry = store[d.ref]\n",
    "            self.selectAll(\"th\").data([entry.index]).join(\"th\").text(d => d)\n",
    "            self.selectAll(\"td\").data([entry.description]).join(\"td\").html(d => markdownIt().render(d))\n",
    "        })\n",
    "       \n",
    "        \n",
    "}\n",
    "\n",
    "var form = d3.select(document.forms.search)\n",
    "\n",
    "document.forms.search.onsubmit = updateSearch\n",
    "globalThis.lunr =  lunr\n",
    "globalThis.d3 =  d3\n",
    "globalThis.idx =  idx\n",
    "globalThis.form =  form\n",
    "globalThis.documents =  documents\n",
    "\n",
    "updateSearch()\n",
    "</script>\n",
    "<form name=search>\n",
    "    <label>query<input type=text name=q list=completion value=bottle></label>\n",
    "    <input type=submit >\n",
    "    <fieldset name=results>\n",
    "        <legend>results</legend>\n",
    "        <table>\n",
    "            <thead>\n",
    "                 <tr>\n",
    "                     <th>project</th>\n",
    "                     <th>description</th>\n",
    "                 </tr>\n",
    "            </thead>\n",
    "            <tbody>\n",
    "            </tbody>\n",
    "            <template><tr><th></th><td></td></tr></template>\n",
    "        </table>\n",
    "    </fieldset>\n",
    "    <datalist id=completion></datalist>\n",
    "</form>\n",
    "\"\"\"\n",
    "file = \"\"\"<html>\n",
    "    <head></head>\n",
    "    <body>{}</body>\n",
    "</html>\"\"\".format(script)"
   ]
  },
  {
   "cell_type": "code",
   "execution_count": 5,
   "id": "d2fc3f3d-e971-42d7-82fc-684429ad75a1",
   "metadata": {
    "execution": {
     "iopub.execute_input": "2025-04-03T20:28:41.035956Z",
     "iopub.status.busy": "2025-04-03T20:28:41.035887Z",
     "iopub.status.idle": "2025-04-03T20:28:41.041666Z",
     "shell.execute_reply": "2025-04-03T20:28:41.041462Z"
    }
   },
   "outputs": [],
   "source": [
    "@App.impl\n",
    "def finalize(df):\n",
    "    path = Path(\"lunr.html\")\n",
    "    path.write_text(\n",
    "        html := jinja2.Environment().from_string(file).render(df=df)\n",
    "    )\n",
    "    print(path.absolute().as_uri())\n",
    "    display(HTML(bs4.BeautifulSoup(html, features=\"html.parser\").body))"
   ]
  },
  {
   "cell_type": "code",
   "execution_count": null,
   "id": "53969069-d1a2-4e35-9d77-ef5335787381",
   "metadata": {},
   "outputs": [],
   "source": [
    "if __name__ == \"__main__\":\n",
    "    app = App()\n",
    "    app.manager.register(__import__(__name__))\n",
    "    app.finalize()"
   ]
  },
  {
   "cell_type": "code",
   "execution_count": null,
   "id": "3309076c",
   "metadata": {},
   "outputs": [],
   "source": [
    "print()"
   ]
  },
  {
   "cell_type": "code",
   "execution_count": null,
   "id": "8f262235",
   "metadata": {},
   "outputs": [],
   "source": []
  },
  {
   "cell_type": "code",
   "execution_count": null,
   "id": "8d44f5b6",
   "metadata": {},
   "outputs": [],
   "source": []
  }
 ],
 "metadata": {
  "kernelspec": {
   "display_name": "a11yhood-research",
   "language": "python",
   "name": "a11yhood-research"
  },
  "language_info": {
   "codemirror_mode": {
    "name": "ipython",
    "version": 3
   },
   "file_extension": ".py",
   "mimetype": "text/x-python",
   "name": "python",
   "nbconvert_exporter": "python",
   "pygments_lexer": "ipython3",
   "version": "3.13.3"
  },
  "widgets": {
   "application/vnd.jupyter.widget-state+json": {
    "state": {},
    "version_major": 2,
    "version_minor": 0
   }
  }
 },
 "nbformat": 4,
 "nbformat_minor": 5
}
